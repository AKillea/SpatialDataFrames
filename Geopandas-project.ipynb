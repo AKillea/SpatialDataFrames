{
 "cells": [
  {
   "cell_type": "markdown",
   "metadata": {},
   "source": [
    "## Analysis with GeoPandas\n",
    "In this exercise, we use GeoPandas to identify census tracts within 1km of EV charging locations in a region in NC. \n",
    "* [Input/Output](https://geopandas.org/io.html) Reading a CSV file into a GeoPandas geodataframe\n",
    "* [Index and Selecting data](https://geopandas.org/indexing.html): Subsetting records\n",
    "* [Managing Projections](https://geopandas.org/projections.html): Projecting a geodataframe\n",
    "* [Geometric manipulations](https://geopandas.org/geometric_manipulations.html): Buffering points\n",
    "* [Set operations](https://geopandas.org/set_operations.html): intersect\n",
    "* [Aggregrating data](https://geopandas.org/aggregation_with_dissolve.html): Dissolving features"
   ]
  },
  {
   "cell_type": "markdown",
   "metadata": {},
   "source": [
    "#### ♦Step 1. Import packages needed in the analysis\n",
    ">**Knowledge check**:<br>\n",
    "→ Can you explain what each package imported above does?"
   ]
  },
  {
   "cell_type": "code",
   "execution_count": 1,
   "metadata": {},
   "outputs": [],
   "source": [
    "#Import packages\n",
    "import pandas as pd\n",
    "import geopandas as gpd\n",
    "from shapely.geometry import Point\n",
    "\n",
    "import matplotlib.pyplot as plt\n",
    "import contextily as ctx\n",
    "\n",
    "%matplotlib inline"
   ]
  },
  {
   "cell_type": "markdown",
   "metadata": {},
   "source": [
    "#### ♦Step 2. Create a geodataframe from a CSV file\n",
    "As done in a previous notebook, we want to:\n",
    "1. Import a CSV file containing coordinate columns into a Pandas dataframe,\n",
    "1. Create a collection of Shapely points from the coordinate fields, and \n",
    "1. Create a geodataframe from the components. "
   ]
  },
  {
   "cell_type": "code",
   "execution_count": 2,
   "metadata": {},
   "outputs": [],
   "source": [
    "#Read in charging stations CSV, convert to geodataframe\n",
    "df = pd.read_csv('./data/NC_Charging_Stations.csv')\n",
    "geom = [Point(xy) for xy in zip(df['Longitude'],df['Latitude'])]\n",
    "gdf_stations_all = gpd.GeoDataFrame(df,geometry=geom,crs=4326)"
   ]
  },
  {
   "cell_type": "markdown",
   "metadata": {},
   "source": [
    "#### ♦Step 3. Explore the data in geodataframe\n",
    "Have a quick look at the contents imported. Things to check include:\n",
    "* How many rows and columns were imported\n",
    "* The names, data types, and number of non-null values in each column\n",
    "* Summary statistics of numeric columns, if applicable\n",
    "* Correlations among column values, if applicable\n",
    "* Spatial plot of the data"
   ]
  },
  {
   "cell_type": "code",
   "execution_count": 3,
   "metadata": {},
   "outputs": [
    {
     "name": "stdout",
     "output_type": "stream",
     "text": [
      "<class 'geopandas.geodataframe.GeoDataFrame'>\n",
      "RangeIndex: 738 entries, 0 to 737\n",
      "Data columns (total 16 columns):\n",
      " #   Column                            Non-Null Count  Dtype   \n",
      "---  ------                            --------------  -----   \n",
      " 0   index                             738 non-null    int64   \n",
      " 1   Fuel Type Code                    738 non-null    object  \n",
      " 2   Station Name                      738 non-null    object  \n",
      " 3   City                              738 non-null    object  \n",
      " 4   State                             738 non-null    object  \n",
      " 5   ZIP                               738 non-null    int64   \n",
      " 6   Status Code                       738 non-null    object  \n",
      " 7   Groups With Access Code           738 non-null    object  \n",
      " 8   Latitude                          738 non-null    float64 \n",
      " 9   Longitude                         738 non-null    float64 \n",
      " 10  ID                                738 non-null    int64   \n",
      " 11  Updated At                        738 non-null    object  \n",
      " 12  Country                           738 non-null    object  \n",
      " 13  Groups With Access Code (French)  738 non-null    object  \n",
      " 14  Access Code                       738 non-null    object  \n",
      " 15  geometry                          738 non-null    geometry\n",
      "dtypes: float64(2), geometry(1), int64(3), object(10)\n",
      "memory usage: 92.4+ KB\n"
     ]
    }
   ],
   "source": [
    "#Examine the data\n",
    "gdf_stations_all.info()"
   ]
  },
  {
   "cell_type": "code",
   "execution_count": null,
   "metadata": {},
   "outputs": [],
   "source": [
    "#Plot the data\n",
    "gdf_stations_all.plot();"
   ]
  },
  {
   "cell_type": "markdown",
   "metadata": {},
   "source": [
    "---\n",
    "### ►TASK: Import the USGS gage points for NC: `./data/gages.csv`\n",
    "* Convert data to a geodataframe: `gdf_gages`\n",
    "* Explore the data\n",
    "* Plot the gage sites"
   ]
  },
  {
   "cell_type": "markdown",
   "metadata": {},
   "source": [
    "---\n",
    "### Importing NC Census Block Group features via NC OneMap's web service\n",
    "We will explore web services a bit later, but we'll use the code below to acquire polygon data of census block groups for Durham, Wake, and Orange counties from an NC OneMap Web Service. Once imported, we'll merge these geodataframes together and use them in our subsequet analyses."
   ]
  },
  {
   "cell_type": "markdown",
   "metadata": {},
   "source": [
    "* First, to simplify matters, I've created a Python function to fetch data for a specific county given its FIPS code."
   ]
  },
  {
   "cell_type": "code",
   "execution_count": 83,
   "metadata": {},
   "outputs": [],
   "source": [
    "#Create a function to read NCOneMap feature services into a geodataframe\n",
    "def getBlockGroupData(FIPS):\n",
    "    #Construct the url from the function arguments\n",
    "    url=f'https://services.nconemap.gov/secure/rest/services/NC1Map_Census/FeatureServer/8/query?' + \\\n",
    "        f\"where=GEOID10+LIKE+'{FIPS}%'&outFields=GEOID10,TOTAL_POP&f=geojson\"\n",
    "    \n",
    "    #Create a geodataframe from the URL\n",
    "    gdf = gpd.read_file(url)\n",
    "    \n",
    "    #Return the geodataframe\n",
    "    return gdf"
   ]
  },
  {
   "cell_type": "markdown",
   "metadata": {},
   "source": [
    "* Now, we apply that function for the three counties we want to examine"
   ]
  },
  {
   "cell_type": "code",
   "execution_count": 84,
   "metadata": {},
   "outputs": [],
   "source": [
    "#Fetch census block groups for Durham, Orange, and Wake counties using the above function\n",
    "gdf_DurmBlkGroups = getBlockGroupData(37063)\n",
    "gdf_WakeBlkGroups = getBlockGroupData(37183)\n",
    "gdf_OrangeBlkGroups = getBlockGroupData(37135)"
   ]
  },
  {
   "cell_type": "code",
   "execution_count": null,
   "metadata": {},
   "outputs": [],
   "source": [
    "#Challenge: See if you can fetch Chatham county block groups (FIPS = 37037)\n"
   ]
  },
  {
   "cell_type": "markdown",
   "metadata": {},
   "source": [
    "* As before, let's take a moment to explore one of the geodataframes...\n",
    " * What is its coordinate reference system?\n",
    " * What columns are included?\n",
    " * What does the first record look like?"
   ]
  },
  {
   "cell_type": "code",
   "execution_count": 73,
   "metadata": {},
   "outputs": [
    {
     "data": {
      "text/plain": [
       "<Geographic 2D CRS: EPSG:4326>\n",
       "Name: WGS 84\n",
       "Axis Info [ellipsoidal]:\n",
       "- Lat[north]: Geodetic latitude (degree)\n",
       "- Lon[east]: Geodetic longitude (degree)\n",
       "Area of Use:\n",
       "- name: World\n",
       "- bounds: (-180.0, -90.0, 180.0, 90.0)\n",
       "Datum: World Geodetic System 1984\n",
       "- Ellipsoid: WGS 84\n",
       "- Prime Meridian: Greenwich"
      ]
     },
     "execution_count": 73,
     "metadata": {},
     "output_type": "execute_result"
    }
   ],
   "source": [
    "#Explore one of the dataframes\n",
    "gdf_DurmBlkGroups.crs"
   ]
  },
  {
   "cell_type": "code",
   "execution_count": 85,
   "metadata": {},
   "outputs": [
    {
     "name": "stdout",
     "output_type": "stream",
     "text": [
      "<class 'geopandas.geodataframe.GeoDataFrame'>\n",
      "RangeIndex: 153 entries, 0 to 152\n",
      "Data columns (total 3 columns):\n",
      " #   Column     Non-Null Count  Dtype   \n",
      "---  ------     --------------  -----   \n",
      " 0   GEOID10    153 non-null    object  \n",
      " 1   TOTAL_POP  153 non-null    int64   \n",
      " 2   geometry   153 non-null    geometry\n",
      "dtypes: geometry(1), int64(1), object(1)\n",
      "memory usage: 3.7+ KB\n"
     ]
    }
   ],
   "source": [
    "gdf_DurmBlkGroups.info()"
   ]
  },
  {
   "cell_type": "code",
   "execution_count": 86,
   "metadata": {},
   "outputs": [
    {
     "data": {
      "text/plain": [
       "GEOID10                                           370630020072\n",
       "TOTAL_POP                                                 2306\n",
       "geometry     POLYGON ((-78.93115770704857 35.95827210689065...\n",
       "Name: 0, dtype: object"
      ]
     },
     "execution_count": 86,
     "metadata": {},
     "output_type": "execute_result"
    }
   ],
   "source": [
    "gdf_DurmBlkGroups.iloc[0]"
   ]
  },
  {
   "cell_type": "code",
   "execution_count": 87,
   "metadata": {},
   "outputs": [
    {
     "data": {
      "text/plain": [
       "<AxesSubplot:>"
      ]
     },
     "execution_count": 87,
     "metadata": {},
     "output_type": "execute_result"
    },
    {
     "data": {
      "image/png": "[encoded data removed]",
      "text/plain": [
       "<Figure size 432x288 with 1 Axes>"
      ]
     },
     "metadata": {
      "needs_background": "light"
     },
     "output_type": "display_data"
    }
   ],
   "source": [
    "#Plot Durhham's population\n",
    "gdf_DurmBlkGroups.plot('TOTAL_POP',cmap='viridis')"
   ]
  },
  {
   "cell_type": "code",
   "execution_count": null,
   "metadata": {},
   "outputs": [],
   "source": [
    "#Plot the block groups\n",
    "thePlot = gdf_DurmBlkGroups.plot(color='blue')\n",
    "gdf_WakeBlkGroups.plot(ax=thePlot,color='red')\n",
    "gdf_OrangeBlkGroups.plot(ax=thePlot,color='lightblue');"
   ]
  },
  {
   "cell_type": "markdown",
   "metadata": {},
   "source": [
    "### The analysis\n",
    "Now that we've obtained a few datasets and got them into geodataframes, we'll perform some analysis. These include:\n",
    "* [**Step 1**](#Analysis-Step-1.-Attribute-subset-of-EV-Station-data) Subsetting the EV charging stations for those in specific cities.\n",
    "* Identifying the census blocks surrounding each EV station, within a distance of 1km\n",
    " * To do this, we'll merge the Durham, Wake, and Orange Co block data selected above\n",
    " * Then we'll buffer our selected EV station points a distance of 1km\n",
    " * And finally, we'll select blocks that intersect the EV station buffers"
   ]
  },
  {
   "cell_type": "markdown",
   "metadata": {},
   "source": [
    "#### Analysis Step 1. Attribute subset of EV Station data\n",
    "1. Examine unique values in the `City` column"
   ]
  },
  {
   "cell_type": "code",
   "execution_count": null,
   "metadata": {},
   "outputs": [],
   "source": [
    "svi_url"
   ]
  },
  {
   "cell_type": "code",
   "execution_count": null,
   "metadata": {},
   "outputs": [],
   "source": [
    "#Reveal the unique values in the City column\n",
    "gdf_stations_all['City'].unique()"
   ]
  },
  {
   "cell_type": "markdown",
   "metadata": {},
   "source": [
    "2. Subset records for those where the City is \"Durham\", \"Raleigh\", or \"Chapel Hill\""
   ]
  },
  {
   "cell_type": "code",
   "execution_count": null,
   "metadata": {},
   "outputs": [],
   "source": [
    "#Subset records where the City is \"Durham\", \"Raleigh\", or \"Chapel Hill\"\n",
    "gdf_stations = gdf_stations_all.query('City in (\"Durham\",\"Raleigh\",\"Chapel Hill\")')"
   ]
  },
  {
   "cell_type": "markdown",
   "metadata": {},
   "source": [
    "3. Explore the results..."
   ]
  },
  {
   "cell_type": "code",
   "execution_count": null,
   "metadata": {},
   "outputs": [],
   "source": [
    "#Plot the results\n",
    "gdf_stations.plot(\"City\");"
   ]
  },
  {
   "cell_type": "code",
   "execution_count": null,
   "metadata": {},
   "outputs": [],
   "source": [
    "#Plot them with a base map\n",
    "fig, ax = plt.subplots(figsize = (10,5))\n",
    "gdf_stations.to_crs(3857).plot(ax=ax, column=\"City\")\n",
    "ctx.add_basemap(ax)"
   ]
  },
  {
   "cell_type": "markdown",
   "metadata": {},
   "source": [
    "#### Analysis Step 2: Buffer the points\n",
    " * To do this, first we need to project the data to a crs that uses meters: UTM Zone 17N. To find the EPSG number associated with this crs, navigate to https://epsg.org and search for `UTM Zone 17 N`. In the results, find the entry associated with WGS84, and record its epsg number. (It should be 32617.)"
   ]
  },
  {
   "cell_type": "code",
   "execution_count": null,
   "metadata": {},
   "outputs": [],
   "source": [
    "#Transform stations to UTM Zone 17N \n",
    "gdf_stations_utm = gdf_stations.to_crs(32617)\n",
    "print(gdf_stations_utm.crs)"
   ]
  },
  {
   "cell_type": "code",
   "execution_count": null,
   "metadata": {},
   "outputs": [],
   "source": [
    "#Buffer the selected exits 2.5 km\n",
    "gdf_stations_buffer = gdf_stations_utm.buffer(1000)\n",
    "gdf_stations_buffer.plot(alpha=0.2);"
   ]
  },
  {
   "cell_type": "markdown",
   "metadata": {},
   "source": [
    "#### Analysis Step 3. Merge the 3 county block group geodataframes into one\n",
    "Doc: https://geopandas.org/mergingdata.html\n",
    "1. Check that all data have the same crs\n",
    "1. Optionally, add a field to identify the source geodataframe\n",
    "1. Apply the append() function\n",
    "\n",
    "We'll start by appending the Wake Co. dataset to the Durham Co. one. Then you will append the Orange Co. dataframe to that product."
   ]
  },
  {
   "cell_type": "code",
   "execution_count": null,
   "metadata": {},
   "outputs": [],
   "source": [
    "#Check the crs of the two geodataframes\n",
    "gdf_DurmBlkGroups.crs == gdf_WakeBlkGroups.crs"
   ]
  },
  {
   "cell_type": "code",
   "execution_count": null,
   "metadata": {},
   "outputs": [],
   "source": [
    "#Add a field to each input, setting values to identify the source dataset\n",
    "gdf_DurmBlkGroups['County'] = 'Durham'\n",
    "gdf_WakeBlkGroups['County'] = 'Wake'"
   ]
  },
  {
   "cell_type": "code",
   "execution_count": null,
   "metadata": {},
   "outputs": [],
   "source": [
    "#Append the Wake Co features to the Durham Co features,\n",
    "gdf_BlkGrp_step1 = gdf_DurmBlkGroups.append(gdf_WakeBlkGroups)"
   ]
  },
  {
   "cell_type": "markdown",
   "metadata": {},
   "source": [
    ">**Knowledge check**:<br>\n",
    "→ How might we check to see that the size of the new geodataframe reflects the combination of the two input geodataframes?"
   ]
  },
  {
   "cell_type": "code",
   "execution_count": null,
   "metadata": {},
   "outputs": [],
   "source": [
    "#Plot the result\n",
    "gdf_BlkGrp_step1.plot('County');"
   ]
  },
  {
   "cell_type": "markdown",
   "metadata": {},
   "source": [
    "* Now you try to append the Orange Co blockgroup features to the `gdf_BlkGrp_step` geodataframe we just created.<br>→ Remember to:\n",
    " * check that the coordinate refernce systems are the same, and \n",
    " * add a new column to the `gdf_OrangeBlkGroups`, setting its value to the County name.\n",
    " \n",
    "Save the result as `gdf_BlkGrps`"
   ]
  },
  {
   "cell_type": "code",
   "execution_count": null,
   "metadata": {},
   "outputs": [],
   "source": [
    "#Check that the coordinate refernce systems are the same\n",
    "gdf_BlkGrp_step1.crs == gdf_OrangeBlkGroups.crs"
   ]
  },
  {
   "cell_type": "code",
   "execution_count": null,
   "metadata": {},
   "outputs": [],
   "source": [
    "#Add the county field\n",
    "gdf_OrangeBlkGroups['County'] = 'Orange'"
   ]
  },
  {
   "cell_type": "code",
   "execution_count": null,
   "metadata": {},
   "outputs": [],
   "source": [
    "#Append the geodataframes\n",
    "gdf_BlkGrp = gdf_BlkGrp_step1.append(gdf_OrangeBlkGroups)"
   ]
  },
  {
   "cell_type": "code",
   "execution_count": null,
   "metadata": {},
   "outputs": [],
   "source": [
    "gdf_BlkGrp.describe()"
   ]
  },
  {
   "cell_type": "code",
   "execution_count": null,
   "metadata": {},
   "outputs": [],
   "source": [
    "#Plot the output\n",
    "gdf_BlkGrp.plot('County');"
   ]
  },
  {
   "cell_type": "markdown",
   "metadata": {},
   "source": [
    "#### Analysis Step 3: Compute Population Density\n",
    "Our combined dataframes have a field indicating the total population in each block group. We want to compute population density from this and from the area of each block group. We don't yet have an area field in our dataframe, but we can compute that from our spatial features. But before we can do this, we need to transform our data into a projected coordinate system. So... the steps for this analysis include:\n",
    "* Project the dataframe from WGS84 to UTM Zone 17N\n",
    "* Compute a new `Area_km2` column in our dataframe\n",
    "* Compute a new `PopDens` column in our dataframe by dividing `TOTAL_POP` by `Area_km` "
   ]
  },
  {
   "cell_type": "code",
   "execution_count": null,
   "metadata": {},
   "outputs": [],
   "source": [
    "#Project the data to UTM Zone 17N (EPSG 32617)\n",
    "gdf_BlkGrp_utm = gdf_BlkGrp.to_crs(32617)"
   ]
  },
  {
   "cell_type": "code",
   "execution_count": null,
   "metadata": {},
   "outputs": [],
   "source": [
    "#Compute a new column of geometry area (in sq km)\n",
    "gdf_BlkGrp_utm['Area_km2'] = gdf_BlkGrp_utm['geometry'].area / 1000000"
   ]
  },
  {
   "cell_type": "code",
   "execution_count": null,
   "metadata": {},
   "outputs": [],
   "source": [
    "#Compute a new column of population density\n",
    "gdf_BlkGrp_utm['PopDens'] = gdf_BlkGrp_utm['TOTAL_POP'] / gdf_BlkGrp_utm['Area_km2']"
   ]
  },
  {
   "cell_type": "code",
   "execution_count": null,
   "metadata": {},
   "outputs": [],
   "source": [
    "#Plot the distribution of areas\n",
    "gdf_BlkGrp_utm['PopDens'].hist(bins=20);"
   ]
  },
  {
   "cell_type": "code",
   "execution_count": null,
   "metadata": {},
   "outputs": [],
   "source": [
    "#Plot a map of log tranformed population density\n",
    "gdf_BlkGrp_utm.plot('PopDens',figsize=(10,8),cmap='viridis');"
   ]
  },
  {
   "cell_type": "code",
   "execution_count": null,
   "metadata": {},
   "outputs": [],
   "source": [
    "#Log transform the pop_dens data\n",
    "import numpy as np\n",
    "gdf_BlkGrp_utm['PD_log'] = np.log(gdf_BlkGrp_utm['PopDens'])"
   ]
  },
  {
   "cell_type": "code",
   "execution_count": null,
   "metadata": {},
   "outputs": [],
   "source": [
    "#Plot the log-transformed distribution of areas\n",
    "gdf_BlkGrp_utm['PD_log'].hist(bins=20);"
   ]
  },
  {
   "cell_type": "code",
   "execution_count": null,
   "metadata": {},
   "outputs": [],
   "source": [
    "#Plot a map of log tranformed population density\n",
    "gdf_BlkGrp_utm.plot('PD_log',figsize=(10,8),cmap='viridis');"
   ]
  },
  {
   "cell_type": "code",
   "execution_count": null,
   "metadata": {},
   "outputs": [],
   "source": [
    "gdf_BlkGrp_utm.columns"
   ]
  },
  {
   "cell_type": "markdown",
   "metadata": {},
   "source": [
    "#### Analsysis: Dissolve blocks into counties\n",
    "Doc: https://geopandas.org/aggregation_with_dissolve.html\n",
    "Here we examine the process of dissolving features. This is done easily with the `dissolve` function, which requires a field containing values on which we want to dissolve. \n",
    "\n",
    "We can also supply an `aggfunc()` argument which specifies how associated fields are aggregated. This argument is supplied as a single over all aggregate function (e.g. '`mean`') to be applied to all fields, or as a dictionary where the keys are the columns and the values are the individual aggregate functions applied to the respective field. \n",
    "\n",
    "Below we aggregate our block group dataset on the County field, computing the sum of values in the `TOTAL_POP` field and the mean of values in the `PopDens` field for each county. "
   ]
  },
  {
   "cell_type": "code",
   "execution_count": null,
   "metadata": {},
   "outputs": [],
   "source": [
    "#Dissolve Tracts on Counties\n",
    "gdf_Counties = gdf_BlkGrp_utm.dissolve(by='County',aggfunc={'TOTAL_POP':'sum','PopDens':'mean'})\n",
    "gdf_Counties.head()"
   ]
  },
  {
   "cell_type": "code",
   "execution_count": null,
   "metadata": {},
   "outputs": [],
   "source": [
    "#Plot the results\n",
    "gdf_Counties.plot();"
   ]
  },
  {
   "cell_type": "markdown",
   "metadata": {},
   "source": [
    "#### Analysis: Subset EV stations spatially. \n",
    "Doc: https://geopandas.org/set_operations.html\n",
    "Previously, we subset EV stations by an attribute (City). Here we'll see how we can instead select features spatially. We do this with GeoPanda's Overlay operations.\n",
    "\n",
    "To spatially select features:\n",
    "* Ensure both datasets share the same coordinate reference system; transform if needed\n",
    "* "
   ]
  },
  {
   "cell_type": "code",
   "execution_count": null,
   "metadata": {},
   "outputs": [],
   "source": [
    "#plot points on tracts\n",
    "ax = gdf_Counties.boundary.plot(figsize=(12,6))\n",
    "gdf_stations_utm.plot(column='City',ax=ax,markersize=10);"
   ]
  },
  {
   "cell_type": "markdown",
   "metadata": {},
   "source": [
    "* Get both datasets into the same crs"
   ]
  },
  {
   "cell_type": "code",
   "execution_count": null,
   "metadata": {},
   "outputs": [],
   "source": [
    "#Ensure both datasets share the same crs\n",
    "print(gdf_stations_all.crs, gdf_Counties.crs)"
   ]
  },
  {
   "cell_type": "code",
   "execution_count": null,
   "metadata": {},
   "outputs": [],
   "source": [
    "#Project one dataset to match the other\n",
    "gdf_stations_all_utm = gdf_stations_all.to_crs(gdf_Counties.crs)\n",
    "print(gdf_stations_all_utm.crs)"
   ]
  },
  {
   "cell_type": "markdown",
   "metadata": {},
   "source": [
    "* Select EV stations that intersect the county features."
   ]
  },
  {
   "cell_type": "code",
   "execution_count": null,
   "metadata": {},
   "outputs": [],
   "source": [
    "#Show info on the overlay function\n",
    "gdf_stations_select = gpd.overlay?"
   ]
  },
  {
   "cell_type": "code",
   "execution_count": null,
   "metadata": {},
   "outputs": [],
   "source": [
    "#Intersect the two dataframes\n",
    "gdf_stations_select = gpd.overlay(\n",
    "    df1=gdf_stations_all_utm,\n",
    "    df2=gdf_Counties,\n",
    "    how='intersection'\n",
    ")"
   ]
  },
  {
   "cell_type": "code",
   "execution_count": null,
   "metadata": {},
   "outputs": [],
   "source": [
    "gdf_stations_select.head()"
   ]
  },
  {
   "cell_type": "code",
   "execution_count": null,
   "metadata": {},
   "outputs": [],
   "source": [
    "#Plot\n",
    "ax = gdf_Counties.plot(color='lightgrey',edgecolor='black')\n",
    "gdf_stations_select.plot(ax=ax,column='City',markersize=10);"
   ]
  },
  {
   "cell_type": "markdown",
   "metadata": {},
   "source": [
    "#### Analysis: Spatial Join\n",
    "Doc: https://geopandas.org/mergingdata.html#spatial-joins\n",
    "\n",
    "Now that we have a proper susbset of EV stations, let's examine the block groups in which each EV stations falls. We do this with a Spatial Join "
   ]
  },
  {
   "cell_type": "code",
   "execution_count": null,
   "metadata": {},
   "outputs": [],
   "source": [
    "#Get syntax of sjoin function\n",
    "gpd.sjoin?"
   ]
  },
  {
   "cell_type": "code",
   "execution_count": null,
   "metadata": {},
   "outputs": [],
   "source": [
    "#Buffer the selected sites\n",
    "gdf_stations_select['geometry'] = gdf_stations_select.buffer(1000)"
   ]
  },
  {
   "cell_type": "code",
   "execution_count": null,
   "metadata": {},
   "outputs": [],
   "source": [
    "#Execute the spatial join\n",
    "gdf_JoinedData = gpd.sjoin(\n",
    "    left_df = gdf_stations_select,\n",
    "    right_df = gdf_BlkGrp_utm,\n",
    "    how='inner',\n",
    "    op='intersects'\n",
    ")"
   ]
  },
  {
   "cell_type": "code",
   "execution_count": null,
   "metadata": {},
   "outputs": [],
   "source": [
    "gdf_JoinedData.plot()"
   ]
  },
  {
   "cell_type": "code",
   "execution_count": null,
   "metadata": {},
   "outputs": [],
   "source": []
  }
 ],
 "metadata": {
  "kernelspec": {
   "display_name": "Python 3",
   "language": "python",
   "name": "python3"
  },
  "language_info": {
   "codemirror_mode": {
    "name": "ipython",
    "version": 3
   },
   "file_extension": ".py",
   "mimetype": "text/x-python",
   "name": "python",
   "nbconvert_exporter": "python",
   "pygments_lexer": "ipython3",
   "version": "3.6.12"
  }
 },
 "nbformat": 4,
 "nbformat_minor": 4
}
