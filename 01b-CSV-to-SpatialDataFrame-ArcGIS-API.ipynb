{
 "cells": [
  {
   "cell_type": "markdown",
   "metadata": {},
   "source": [
    "# CSV to Spatial Dataframe with ArcGIS Python API\n",
    "The ArcGIS Python API can also convert CSV file containing coordinates to a spatially enabled dataframe. \n",
    "\n",
    "\n",
    "We'll start with the simplest example of creating a point spatial dataframe from a CSV file containing latitude and longitude coordinates. The data we'll use in this exercise is electric vehicle charging locations in North Carolina ([source](https://afdc.energy.gov/data_download))."
   ]
  },
  {
   "cell_type": "markdown",
   "metadata": {},
   "source": [
    "## 1. Constructing a Pandas dataframe from the CSV file\n",
    "We'll use an API to fetch CSV data listing the electric vehicle charging locations in North Carolina and load that file directly into a familiar Pandas dataframe named `df_EVStations`."
   ]
  },
  {
   "cell_type": "code",
   "execution_count": null,
   "metadata": {},
   "outputs": [],
   "source": [
    "#Import the requests and pandas libraries\n",
    "import requests\n",
    "import pandas as pd"
   ]
  },
  {
   "cell_type": "code",
   "execution_count": null,
   "metadata": {},
   "outputs": [],
   "source": [
    "#Construct the request\n",
    "serviceURL = 'https://developer.nrel.gov/api/alt-fuel-stations/v1.csv'\n",
    "parameters = {\n",
    "    'access':'all',\n",
    "    'api_key':'oA9dHswdtlpAx5qLEdV1StM1mUB8KsgWluSfoEuL',\n",
    "    'fuel_type':'ELEC',\n",
    "    'status':'all',\n",
    "    'state':'NC',\n",
    "    'download':'true'\n",
    "}\n",
    "\n",
    "#Process the request\n",
    "response = requests.get(serviceURL,parameters)\n",
    "df_EVStations = pd.read_csv(response.url)"
   ]
  },
  {
   "cell_type": "code",
   "execution_count": null,
   "metadata": {},
   "outputs": [],
   "source": [
    "#Run if the above fails...\n",
    "#df_EVStations_All = pd.read_csv('./data/alt_fuel_stations (Nov 14 2019).csv',low_memory=False)\n",
    "#df_EVStations = df_EVStations_All.query('State == \"NC\"').reset_index()"
   ]
  },
  {
   "cell_type": "markdown",
   "metadata": {},
   "source": [
    "## 2. Creating geometries from latitude and longitude coordinates\n",
    "Once again, we begin with a dataframe that includes coordinate data and our task is to conver those coordinates to geometric features. Converting this dataframe to a spatial dataframe is actually easier than in GeoPandas, however the result is not quite the same type of spatially enabled dataframe we constructed with GeoPandas. "
   ]
  },
  {
   "cell_type": "markdown",
   "metadata": {},
   "source": [
    "* We begin by importing the ArcGIS GIS API GIS package and creating an anonymous GIS object. "
   ]
  },
  {
   "cell_type": "code",
   "execution_count": null,
   "metadata": {},
   "outputs": [],
   "source": [
    "#Import the ArcGIS API GIS object\n",
    "from arcgis import GIS\n",
    "#Import some other ArcGIS objectgs\n",
    "from arcgis.features import SpatialDataFrame, GeoAccessor, GeoSeriesAccessor"
   ]
  },
  {
   "cell_type": "markdown",
   "metadata": {},
   "source": [
    "_When we import the GIS object, we get addtional functionality attached to our Pandas dataframe. If we append a `.spatial` to many dataframe commands, we have a new class of object with new functionality. (More detail [here](https://developers.arcgis.com/python/guide/introduction-to-the-spatially-enabled-dataframe/).) One function is tha ability to convert X and Y columns into geometries..._\n",
    "\n",
    "* Next we apply the [`from_xy()`](https://esri.github.io/arcgis-python-api/apidoc/html/arcgis.features.toc.html#arcgis.features.SpatialDataFrame.from_df) function to the dataframe added by importing the GIS object. "
   ]
  },
  {
   "cell_type": "code",
   "execution_count": null,
   "metadata": {},
   "outputs": [],
   "source": [
    "#Convert the Pandas dataframe to a spatial dataframe using the `from_xy` function.)\n",
    "sdf_EVStations = pd.DataFrame.spatial.from_xy(df=df_EVStations,\n",
    "                                              x_column='Longitude',\n",
    "                                              y_column='Latitude',\n",
    "                                              sr=4326)\n",
    "#What type of object is created?\n",
    "type(sdf_EVStations)"
   ]
  },
  {
   "cell_type": "markdown",
   "metadata": {},
   "source": [
    "* We can examine the dataframe's geometry values..."
   ]
  },
  {
   "cell_type": "code",
   "execution_count": null,
   "metadata": {},
   "outputs": [],
   "source": [
    "sdf_EVStations.geometry"
   ]
  },
  {
   "cell_type": "markdown",
   "metadata": {},
   "source": [
    "* Geometry is stored in the \"SHAPE\" field..."
   ]
  },
  {
   "cell_type": "code",
   "execution_count": null,
   "metadata": {},
   "outputs": [],
   "source": [
    "sdf_EVStations['SHAPE']"
   ]
  },
  {
   "cell_type": "code",
   "execution_count": null,
   "metadata": {},
   "outputs": [],
   "source": [
    "#Draw\n",
    "gis = GIS()\n",
    "theMap = gis.map('North Carolina')\n",
    "theMap"
   ]
  },
  {
   "cell_type": "markdown",
   "metadata": {},
   "source": [
    "The GeoSeriesAccessor is a means for working with the set of geometries..."
   ]
  },
  {
   "cell_type": "code",
   "execution_count": null,
   "metadata": {},
   "outputs": [],
   "source": [
    "#Convert the geometry to a GeoSeries Accessor object\n",
    "geoSeries = GeoSeriesAccessor(sdf_EVStations.geometry)\n",
    "type(geoSeries)"
   ]
  },
  {
   "cell_type": "code",
   "execution_count": null,
   "metadata": {},
   "outputs": [],
   "source": [
    "#Project the geo\n",
    "geoSeries_utm = geoSeries.project_as('26917')"
   ]
  },
  {
   "cell_type": "code",
   "execution_count": null,
   "metadata": {},
   "outputs": [],
   "source": [
    "ga = GeoAccessor(sdf_EVStations)"
   ]
  },
  {
   "cell_type": "code",
   "execution_count": null,
   "metadata": {},
   "outputs": [],
   "source": [
    "ga.bbox"
   ]
  },
  {
   "cell_type": "markdown",
   "metadata": {},
   "source": [
    "We see the obect created is still a Pandas DataFrame. However, we can continue to append `.spatial` to apply spatial functions to the dataset. In fact, if save `sdf_EVStations.spatial` to a variable we see that it's a new object, an ArcGIS [\"GeoAccessor\"](https://esri.github.io/arcgis-python-api/apidoc/html/arcgis.features.toc.html#geoaccessor) object. "
   ]
  },
  {
   "cell_type": "code",
   "execution_count": null,
   "metadata": {},
   "outputs": [],
   "source": [
    "#Some properties of the GeoAccessor object\n",
    "gacc_EVStations.bbox"
   ]
  },
  {
   "cell_type": "code",
   "execution_count": null,
   "metadata": {},
   "outputs": [],
   "source": [
    "fc = sdf.spatial.to_feature_collection()"
   ]
  },
  {
   "cell_type": "markdown",
   "metadata": {},
   "source": [
    "The ArcGIS Python API, when loaded, does an interesting thing with the Pandas dataframe object: it adds a submodule to it such that adding `.spatail` to an existing `Dataframe` command adds a new set of functionality to our dataframe."
   ]
  },
  {
   "cell_type": "code",
   "execution_count": null,
   "metadata": {},
   "outputs": [],
   "source": [
    "myMap = gis.map('North Carolina')\n",
    "#myMap.draw(sdf.iloc[0]['SHAPE'])\n",
    "myMap"
   ]
  },
  {
   "cell_type": "code",
   "execution_count": null,
   "metadata": {},
   "outputs": [],
   "source": [
    "#Import API helper objects: the GeoAccessor and GeoSeriesAccessor\n",
    "from arcgis.features import GeoAccessor, GeoSeriesAccessor"
   ]
  },
  {
   "cell_type": "code",
   "execution_count": null,
   "metadata": {},
   "outputs": [],
   "source": [
    "sdf = pd.DataFrame.spatial.from_featureclass('./data/HUC12.shp')\n",
    "type(sdf)"
   ]
  },
  {
   "cell_type": "code",
   "execution_count": null,
   "metadata": {},
   "outputs": [],
   "source": [
    "ga = GeoAccessor(sdf)"
   ]
  },
  {
   "cell_type": "code",
   "execution_count": null,
   "metadata": {},
   "outputs": [],
   "source": [
    "ga.area"
   ]
  }
 ],
 "metadata": {
  "kernelspec": {
   "display_name": "Python 3",
   "language": "python",
   "name": "python3"
  },
  "language_info": {
   "codemirror_mode": {
    "name": "ipython",
    "version": 3
   },
   "file_extension": ".py",
   "mimetype": "text/x-python",
   "name": "python",
   "nbconvert_exporter": "python",
   "pygments_lexer": "ipython3",
   "version": "3.6.8"
  }
 },
 "nbformat": 4,
 "nbformat_minor": 2
}
