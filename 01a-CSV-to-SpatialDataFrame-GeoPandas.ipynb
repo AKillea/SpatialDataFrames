{
 "cells": [
  {
   "cell_type": "markdown",
   "metadata": {},
   "source": [
    "# CSV to GeoDataframe with GeoPandas\n",
    "If a CSV file includes coordinates - either a coordinate pair representing a point location, or a series of coordinate pairs depicting a line or a polygon's permiter - then we can use those coordinates to construct a geometric object and thus create a spatially enabled dataframe, which in Geopandas is referred to as a <u>geodataframe</u>. \n",
    "\n",
    "Here we focus on the steps involved in going from raw coordinate data stored in a field of CSV file to a spatial dataframe. In doing so, we discuss the hierarchy of components that go into adding spatial elements to a dataframe: from geometries, to geoseries, and finally to geodataframes.  \n",
    "\n",
    "We'll start with the simplest example of creating a point spatial dataframe from a CSV file containing latitude and longitude coordinates. The data we'll use in this exercise is electric vehicle charging locations in North Carolina ([source](https://afdc.energy.gov/data_download))."
   ]
  },
  {
   "cell_type": "markdown",
   "metadata": {},
   "source": [
    "## 1. Constructing a Pandas dataframe from the CSV file\n",
    "We'll use an API to fetch CSV data listing the electric vehicle charging locations in North Carolina and load that file directly into a familiar Pandas dataframe named `df_EVStations`."
   ]
  },
  {
   "cell_type": "code",
   "execution_count": null,
   "metadata": {},
   "outputs": [],
   "source": [
    "#Import the requests and pandas libraries\n",
    "import requests\n",
    "import pandas as pd"
   ]
  },
  {
   "cell_type": "code",
   "execution_count": null,
   "metadata": {},
   "outputs": [],
   "source": [
    "#Construct the request\n",
    "serviceURL = 'https://developer.nrel.gov/api/alt-fuel-stations/v1.csv'\n",
    "parameters = {\n",
    "    'access':'all',\n",
    "    'api_key':'oA9dHswdtlpAx5qLEdV1StM1mUB8KsgWluSfoEuL',\n",
    "    'fuel_type':'ELEC',\n",
    "    'status':'all',\n",
    "    'state':'NC',\n",
    "    'download':'true'\n",
    "}"
   ]
  },
  {
   "cell_type": "code",
   "execution_count": null,
   "metadata": {},
   "outputs": [],
   "source": [
    "#Process the request\n",
    "response = requests.get(serviceURL,parameters)\n",
    "df_EVStations = pd.read_csv(response.url)"
   ]
  },
  {
   "cell_type": "code",
   "execution_count": null,
   "metadata": {},
   "outputs": [],
   "source": [
    "#Run if the above fails...\n",
    "#df_EVStations_All = pd.read_csv('./data/alt_fuel_stations (Nov 14 2019).csv',low_memory=False)\n",
    "#df_EVStations = df_EVStations_All.query('State == \"NC\"').reset_index()"
   ]
  },
  {
   "cell_type": "code",
   "execution_count": null,
   "metadata": {},
   "outputs": [],
   "source": [
    "#Examine the columns, noting the data include \"latitude\"  \"longitude\" columns\n",
    "df_EVStations.columns"
   ]
  },
  {
   "cell_type": "markdown",
   "metadata": {},
   "source": [
    "## 2. Creating geometries from latitude and longitude coordinates\n",
    "Now that we have our dataframe with coordinate values, the next step is to convert these raw values into geometric objects, points in our case. This is done with the `shapely` package. First, we'll demonstrate how this is done with a single coordinate pair, and then reveal a nifty way to do this for all coordinate pairs in our dataframe."
   ]
  },
  {
   "cell_type": "markdown",
   "metadata": {},
   "source": [
    "#### Creating a point geometry from a single coordinate pair"
   ]
  },
  {
   "cell_type": "code",
   "execution_count": null,
   "metadata": {},
   "outputs": [],
   "source": [
    "#Extract latitude and longitude values from our first record\n",
    "theLat = df_EVStations.loc[0,'Latitude']\n",
    "theLng = df_EVStations.loc[0,'Longitude']\n",
    "print (theLat,theLng)"
   ]
  },
  {
   "cell_type": "code",
   "execution_count": null,
   "metadata": {},
   "outputs": [],
   "source": [
    "#Import the Point class from shapely's geometry module\n",
    "from shapely.geometry import Point"
   ]
  },
  {
   "cell_type": "code",
   "execution_count": null,
   "metadata": {},
   "outputs": [],
   "source": [
    "#Construct a shapely point from our XY coordinates\n",
    "thePoint = Point(theLng,theLat)\n",
    "type(thePoint)"
   ]
  },
  {
   "cell_type": "markdown",
   "metadata": {},
   "source": [
    "Ok, we now have a point object. What we next need to do is repeat this for all records in our dataframe, storing the geometries in a new collection. \n",
    "\n",
    "We could simply iterate through all rows in our dataframe (e.g. using Pandas' `iterrow()` function. However, a much more elegant and efficient method exists using Python's \"list comprehension\" methods. (See more [here]() on list comprehension...)"
   ]
  },
  {
   "cell_type": "markdown",
   "metadata": {},
   "source": [
    "#### Creating a list of point geometries by iterating through all records"
   ]
  },
  {
   "cell_type": "code",
   "execution_count": null,
   "metadata": {},
   "outputs": [],
   "source": [
    "#Old style:\n",
    "thePoints = []\n",
    "for i,row in df_EVStations.iterrows():\n",
    "    theLat = row['Latitude']\n",
    "    theLng = row['Longitude']\n",
    "    thePoint = Point(theLng,theLat)\n",
    "    thePoints.append(thePoint)\n",
    "len(thePoints)"
   ]
  },
  {
   "cell_type": "markdown",
   "metadata": {},
   "source": [
    "#### Creating a list of point geometries by iterating through all records - *using list comprehension*"
   ]
  },
  {
   "cell_type": "code",
   "execution_count": null,
   "metadata": {},
   "outputs": [],
   "source": [
    "#New style: Using list comprehension\n",
    "thePoints = [Point(xy) for xy in zip(df_EVStations['Longitude'],df_EVStations['Latitude'])]\n",
    "len(thePoints)"
   ]
  },
  {
   "cell_type": "markdown",
   "metadata": {},
   "source": [
    "#### Understanding *list comprehension*\n",
    "A lot is going on in the above statement. \n",
    "\n",
    "* First, the `zip(df_EVStations['Longitude'],df_EVStations['Latitude'])` code creats a Python \"zip\" object which is a combination two (or more) collections of the same length that now share a common index. <br><br>Behold:"
   ]
  },
  {
   "cell_type": "code",
   "execution_count": null,
   "metadata": {},
   "outputs": [],
   "source": [
    "#Zip the two columns of data such that they share a common index\n",
    "zipObject = zip(df_EVStations['Longitude'],df_EVStations['Latitude'])\n",
    "#Convert the zip object to a list\n",
    "zipAsList = list(zipObject)\n",
    "#Reveal the first 3 object in the list\n",
    "zipAsList[:3]"
   ]
  },
  {
   "cell_type": "markdown",
   "metadata": {},
   "source": [
    "* The second action in the statement is a for loop that iterates through each item in the zip object, storing the current value (i.e. coordinate pair) as a variable named `xy`.\n",
    "* And the third action is constucting a Point object using this coordinate pair, again done within the for loop. \n",
    "* And at each iteration, the output accumulates as a new list, which we save as the variable `thePoints`. "
   ]
  },
  {
   "cell_type": "markdown",
   "metadata": {},
   "source": [
    "## 3. Creating the geodataframe\n",
    "We are almost there! The remaining step is to convert our existing Pandas dataframe to a GeoPandas *geo*dataframe. To do this we simply call the GeoPandas `GeoDataFrame` command, referencing the original dataframe, the list of geometries corresponding to each row in this dataframe, and the <u>coordinate reference system</u> or **crs** to which our geometries are referenced. \n",
    "\n",
    "These coordinate reference systems can actually take many forms. But most often, you'll just use the format shown below, replacing the `4326` with the \"WKID\" of any coordinate reference system listed at https://spatialreference.org.  "
   ]
  },
  {
   "cell_type": "code",
   "execution_count": null,
   "metadata": {},
   "outputs": [],
   "source": [
    "#Create a coordinate reference system dictionary for WGS84 (WKID=4326)\n",
    "theCRS = {'init':'epsg:4326'}"
   ]
  },
  {
   "cell_type": "code",
   "execution_count": null,
   "metadata": {},
   "outputs": [],
   "source": [
    "#Import geopandas\n",
    "import geopandas as gpd"
   ]
  },
  {
   "cell_type": "code",
   "execution_count": null,
   "metadata": {},
   "outputs": [],
   "source": [
    "#Create the spatial dataframe from the Pandas dataframe, the geometry collection and crs\n",
    "sdf_EVStations = gpd.GeoDataFrame(df_EVStations,geometry=thePoints,crs=theCRS)"
   ]
  },
  {
   "cell_type": "code",
   "execution_count": null,
   "metadata": {},
   "outputs": [],
   "source": [
    "#Display the geodataframe as a map!\n",
    "sdf_EVStations.plot(figsize=(18,5));"
   ]
  }
 ],
 "metadata": {
  "kernelspec": {
   "display_name": "Python 3",
   "language": "python",
   "name": "python3"
  },
  "language_info": {
   "codemirror_mode": {
    "name": "ipython",
    "version": 3
   },
   "file_extension": ".py",
   "mimetype": "text/x-python",
   "name": "python",
   "nbconvert_exporter": "python",
   "pygments_lexer": "ipython3",
   "version": "3.6.8"
  }
 },
 "nbformat": 4,
 "nbformat_minor": 2
}
