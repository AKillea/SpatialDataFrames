{
 "cells": [
  {
   "cell_type": "markdown",
   "metadata": {},
   "source": [
    "# Performing analysis with GeoDataframes\n",
    "With spatial data stored as a geodataframe, we can run a number of analyses, both tabular, using Pandas operations, and spatial, using Geopandas operations. This notebook wades gently into the world of GeoPandas and also serves as a review of several Pandas operations. \n",
    "\n",
    "Specifically we examine the following:\n",
    "* Reading & writing shapefiles into a GeoPandas dataFrame\n",
    "* Reprojecting data using GeoPandas\n",
    "* Exploring the GeoPandas dataFrame\n",
    " * Exposing the number of features \n",
    " * Revealing the data types of each column \n",
    " * Exploring the `geometry` data type\n",
    "* Quick view of plotting in GeoPandas\n",
    "* Quick view of geoprocessing in GeoPandas"
   ]
  },
  {
   "cell_type": "markdown",
   "metadata": {},
   "source": [
    "### 1. Install the package and enable inline plots"
   ]
  },
  {
   "cell_type": "code",
   "execution_count": null,
   "metadata": {},
   "outputs": [],
   "source": [
    "#import the package\n",
    "import geopandas as gpd\n",
    "\n",
    "#enable plots to appear in the notebook\n",
    "%matplotlib inline"
   ]
  },
  {
   "cell_type": "markdown",
   "metadata": {},
   "source": [
    "---\n",
    "<h2><font color='red'>► FIX REQUIRED ◄</font></h2>\n",
    "\n",
    "*You need to run this code block to fix an issue with the `pyproj` module used by GeoPandas.*\n",
    "\n",
    "For more on the issue see: \n",
    "https://github.com/geopandas/geopandas/issues/830"
   ]
  },
  {
   "cell_type": "code",
   "execution_count": null,
   "metadata": {},
   "outputs": [],
   "source": [
    "#Fix issue with pyproj \n",
    "import sys, os\n",
    "pythonPath = sys.executable\n",
    "pythonFolder = os.path.dirname(pythonPath)\n",
    "shareFolder = os.path.join(pythonFolder,'Library','share')\n",
    "os.environ[\"PROJ_LIB\"] = shareFolder"
   ]
  },
  {
   "cell_type": "markdown",
   "metadata": {},
   "source": [
    "---\n",
    "### 2. Read a shapefile into a _GeoDataframe_\n",
    "GeoPandas can read shapefiles directly. Behind the scenes, this operation is using the `GDAL` package which contains the binaries capable of understanding geospatial data, the `fiona` package, which allows Python to interact nicely with `GDAL` libraries, and the `shapely` package which has functions for operating with feature classes in a Pythonic way. GeoPandas coordinate reference systems can use the \"European Petroleum Survey Group\" (EPSG) codes as shorthand for various standard systems. \n",
    "\n",
    "Complete documentation on the GeoDataframe is here: http://geopandas.org/data_structures.html#geodataframe"
   ]
  },
  {
   "cell_type": "code",
   "execution_count": null,
   "metadata": {},
   "outputs": [],
   "source": [
    "#read in the HUC12.shp feature class\n",
    "gdf = gpd.read_file('./Data/12Digit_HUC_Subwatersheds.shp')"
   ]
  },
  {
   "cell_type": "markdown",
   "metadata": {},
   "source": [
    "### 3. Explore properties of the GeoDataframe\n",
    "Here we explore various properties of our GeoDataframe. Note that all the operations that apply to a Pandas dataframe also apply to geodataframes... "
   ]
  },
  {
   "cell_type": "code",
   "execution_count": null,
   "metadata": {},
   "outputs": [],
   "source": [
    "#How many features and attributes in the dataset?\n",
    "gdf.shape"
   ]
  },
  {
   "cell_type": "code",
   "execution_count": null,
   "metadata": {},
   "outputs": [],
   "source": [
    "#show information on each column in the geodataframe\n",
    "gdf.info()"
   ]
  },
  {
   "cell_type": "code",
   "execution_count": null,
   "metadata": {},
   "outputs": [],
   "source": [
    "#Quick summary stats of the dataset\n",
    "gdf.describe()"
   ]
  },
  {
   "cell_type": "code",
   "execution_count": null,
   "metadata": {},
   "outputs": [],
   "source": [
    "#examine the attributes for the first feature\n",
    "gdf.iloc[0]"
   ]
  },
  {
   "cell_type": "code",
   "execution_count": null,
   "metadata": {},
   "outputs": [],
   "source": [
    "#What coordinate reference system is used? Check http://epsg.io for what this code is\n",
    "gdf.crs"
   ]
  },
  {
   "cell_type": "markdown",
   "metadata": {},
   "source": [
    "→ If the crs returns an 'epsg' code you can generate a URL to look it up..."
   ]
  },
  {
   "cell_type": "code",
   "execution_count": null,
   "metadata": {},
   "outputs": [],
   "source": [
    "#Get the epsg code from the crs\n",
    "epsg = gdf.crs['init'].split(':')[1]\n",
    "#Generate and print the URL, which you can click on...\n",
    "print(\"http://epsg.io/{}\".format(epsg))"
   ]
  },
  {
   "cell_type": "code",
   "execution_count": null,
   "metadata": {},
   "outputs": [],
   "source": [
    "#show the geometry type(s) in this geodataframe\n",
    "gdf.type.unique()"
   ]
  },
  {
   "cell_type": "code",
   "execution_count": null,
   "metadata": {},
   "outputs": [],
   "source": [
    "#Simple plot\n",
    "gdf.plot(figsize=(10,5));"
   ]
  },
  {
   "cell_type": "markdown",
   "metadata": {},
   "source": [
    "### 4. Projections in GeoPandas: Reprojecting data\n",
    "We see our native data is unprojected, using the WGS84 geographic coordinate system. If we want to compute areas or lengths in meaningful units, we'll have to reproject the data to projected coordinate system. Here we'll reproject our NAD83 data to UTM Zone 17 N, which has an EPSG code of `26917`. \n",
    "* http://geopandas.org/projections.html"
   ]
  },
  {
   "cell_type": "code",
   "execution_count": null,
   "metadata": {},
   "outputs": [],
   "source": [
    "#Reproject to UTM: \n",
    "#  If this results in \"b'no arguments in initialization list'\" error\n",
    "#  see the \"Fix\" above!\n",
    "gdfUTM  = gdf.to_crs({'init':'epsg:26917'})"
   ]
  },
  {
   "cell_type": "code",
   "execution_count": null,
   "metadata": {},
   "outputs": [],
   "source": [
    "#Simple plot - does it look different than above? \n",
    "gdfUTM.plot(figsize=(10,5));"
   ]
  },
  {
   "cell_type": "markdown",
   "metadata": {},
   "source": [
    "### 5. Exploring the `geometry` objects in a GeoPandas dataframe\n",
    "The key to Geopandas ability to work with geospatial data is by adding a new data type to the standard Pandas dataFrame: this is stored in the `geometry` field. Let's explore this field. \n",
    "\n",
    "Complete documentation on the geometry object is here: http://geopandas.org/geometric_manipulations.html"
   ]
  },
  {
   "cell_type": "code",
   "execution_count": null,
   "metadata": {},
   "outputs": [],
   "source": [
    "#show the first 5 values in the geometry field: this is actually a GeoSeries...\n",
    "gdfUTM['geometry'][0:5]"
   ]
  },
  {
   "cell_type": "code",
   "execution_count": null,
   "metadata": {},
   "outputs": [],
   "source": [
    "#show just a single geometry - it appears as a shape\n",
    "gdfUTM['geometry'][10]"
   ]
  },
  {
   "cell_type": "markdown",
   "metadata": {},
   "source": [
    "Now let's save that one geometry object, a polygon in this case to variable and examine what GeoPandas allows us to do with it. "
   ]
  },
  {
   "cell_type": "code",
   "execution_count": null,
   "metadata": {},
   "outputs": [],
   "source": [
    "#Extract one feature geometry to a variable; what is its datatype?\n",
    "thePoly = gdfUTM['geometry'][10]\n",
    "type(thePoly)"
   ]
  },
  {
   "cell_type": "code",
   "execution_count": null,
   "metadata": {},
   "outputs": [],
   "source": [
    "#Show thePoly\n",
    "thePoly"
   ]
  },
  {
   "cell_type": "code",
   "execution_count": null,
   "metadata": {},
   "outputs": [],
   "source": [
    "#Show the area and perimeter length of ths polygon\n",
    "theArea = thePoly.area\n",
    "thePerim = thePoly.length\n",
    "print (\"Area (m2):\",int(theArea))\n",
    "print (\"Permeter (m):\",int(thePerim))"
   ]
  },
  {
   "cell_type": "code",
   "execution_count": null,
   "metadata": {},
   "outputs": [],
   "source": [
    "#Convert the polygon's boundary to a linestring (i.e. a line feature)\n",
    "theBoundary = thePoly.boundary\n",
    "type(theBoundary)"
   ]
  },
  {
   "cell_type": "code",
   "execution_count": null,
   "metadata": {},
   "outputs": [],
   "source": [
    "#Show the linestring - we see it as a line feature, as expected\n",
    "theBoundary"
   ]
  },
  {
   "cell_type": "code",
   "execution_count": null,
   "metadata": {},
   "outputs": [],
   "source": [
    "#Create the centroid of the feature\n",
    "theCentroid = thePoly.centroid\n",
    "type(theCentroid)"
   ]
  },
  {
   "cell_type": "code",
   "execution_count": null,
   "metadata": {},
   "outputs": [],
   "source": [
    "#Display the centroid - it doesn't appear (a point is infinitely small)\n",
    "theCentroid"
   ]
  },
  {
   "cell_type": "code",
   "execution_count": null,
   "metadata": {},
   "outputs": [],
   "source": [
    "#But we can show the point buffered 10 m\n",
    "theCentroid.buffer(10)"
   ]
  },
  {
   "cell_type": "code",
   "execution_count": null,
   "metadata": {},
   "outputs": [],
   "source": [
    "#We can buffer polygons too\n",
    "thePoly.buffer(100)"
   ]
  },
  {
   "cell_type": "markdown",
   "metadata": {},
   "source": [
    "#### To try:\n",
    "1. Display the polygon's perimeter (e.g. `theBoundary` object) bufferd by 250 meters.\n",
    "2. What happens if you buffer `thePoly`  **-250m**?"
   ]
  },
  {
   "cell_type": "code",
   "execution_count": null,
   "metadata": {},
   "outputs": [],
   "source": [
    "#See if you can display the boundary line created above, buffered 250 meters\n"
   ]
  },
  {
   "cell_type": "code",
   "execution_count": null,
   "metadata": {},
   "outputs": [],
   "source": [
    "#Display the polygon buffered negative 250m\n"
   ]
  },
  {
   "cell_type": "markdown",
   "metadata": {},
   "source": [
    "→ Geopandas has other [feature transformations](http://geopandas.org/geometric_manipulations.html?highlight=buffer#constructive-methods). Try: `convex_hull`, `envelope`, `simplify(tolerance=100)`..."
   ]
  },
  {
   "cell_type": "code",
   "execution_count": null,
   "metadata": {},
   "outputs": [],
   "source": [
    "#What does the `.convex_hull` transformation do?"
   ]
  },
  {
   "cell_type": "code",
   "execution_count": null,
   "metadata": {},
   "outputs": [],
   "source": [
    "#What does the `.envelope` transformation do?"
   ]
  },
  {
   "cell_type": "code",
   "execution_count": null,
   "metadata": {},
   "outputs": [],
   "source": [
    "#Simplify the polygon using various tolerance values"
   ]
  },
  {
   "cell_type": "markdown",
   "metadata": {},
   "source": [
    "### 6. Spatial Analysis among geometries\n",
    "Let's move on to more sophisticated spatial analysis that we can do with GeoPandas. First we'll look at working with GeoSeries objects, i.e. arrays of geometries. Just as we can perform mathematical operations on sets of numbers stored in a Panda series or Numpy array, we can run spatial analyses on entire collections of geometries."
   ]
  },
  {
   "cell_type": "markdown",
   "metadata": {},
   "source": [
    "#### Subset features using Pandas `query`\n",
    "First, we'll subset our data to a more manageable size dataset. For this we use Pandas queries. "
   ]
  },
  {
   "cell_type": "code",
   "execution_count": null,
   "metadata": {},
   "outputs": [],
   "source": [
    "#Remind ourselves what columns are in this dataset\n",
    "gdfUTM.columns"
   ]
  },
  {
   "cell_type": "code",
   "execution_count": null,
   "metadata": {},
   "outputs": [],
   "source": [
    "#List unique values in the Basin field\n",
    "gdfUTM['DWQ_Basin'].unique()"
   ]
  },
  {
   "cell_type": "code",
   "execution_count": null,
   "metadata": {},
   "outputs": [],
   "source": [
    "#Create a dataframe of HUCs in the particular basin\n",
    "gdfNeuse = gdfUTM.query('DWQ_Basin == \"Neuse\"').copy(deep=True)\n",
    "gdfNeuse.shape"
   ]
  },
  {
   "cell_type": "code",
   "execution_count": null,
   "metadata": {},
   "outputs": [],
   "source": [
    "#Quick plot - adding \"column=\" allows us to color on unique values in that column\n",
    "gdfNeuse.plot(column='HUC_8');"
   ]
  },
  {
   "cell_type": "markdown",
   "metadata": {},
   "source": [
    "#### Computing distances between features\n",
    "How far is each HUC in the Neuse from Durham? To do this we first have to create a point representing Durham. We do this using the Shapely package: https://shapely.readthedocs.io/en/stable/manual.html#points. However, to match the projection of our Neuse dataframe, we need to project our point to UTM Zone 17N. We do this with the `pyproj` package."
   ]
  },
  {
   "cell_type": "code",
   "execution_count": null,
   "metadata": {},
   "outputs": [],
   "source": [
    "#Create a point for Durham (Lat=36.0044;Long=-78.9429)\n",
    "from shapely.geometry import Point\n",
    "ptDurham_DD = Point(-78.9429,36.0044)\n",
    "type(ptDurham_DD)"
   ]
  },
  {
   "cell_type": "code",
   "execution_count": null,
   "metadata": {},
   "outputs": [],
   "source": [
    "#Project Durham from NAD83 decimal degrees to UTM Zone 17n (WKID=26917)\n",
    "import pyproj\n",
    "prjNAD83 = pyproj.Proj(init='epsg:4326')\n",
    "prjUTM17N = pyproj.Proj(init='epsg:26917')\n",
    "ptDurham_UTM = Point(pyproj.transform(prjNAD83,       #Source projection\n",
    "                                      prjUTM17N,      #Destination projection\n",
    "                                      ptDurham_DD.x,  #X coordinate\n",
    "                                      ptDurham_DD.y)) #Y coordinate\n",
    "#Show the coordinates\n",
    "ptDurham_UTM.x,ptDurham_UTM.y"
   ]
  },
  {
   "cell_type": "code",
   "execution_count": null,
   "metadata": {},
   "outputs": [],
   "source": [
    "#Compute the distance of each feature to this center point & show the mean\n",
    "theDistances_km = gdfUTM.distance(ptDurham_UTM)/1000\n",
    "#This returns a series -- a list of distances to each catchment feature\n",
    "type(theDistances_km)"
   ]
  },
  {
   "cell_type": "code",
   "execution_count": null,
   "metadata": {},
   "outputs": [],
   "source": [
    "theDistances_km[:5]"
   ]
  },
  {
   "cell_type": "code",
   "execution_count": null,
   "metadata": {},
   "outputs": [],
   "source": [
    "#Summary stats of all the distances\n",
    "theDistances_km.describe()"
   ]
  },
  {
   "cell_type": "code",
   "execution_count": null,
   "metadata": {},
   "outputs": [],
   "source": [
    "#Plot a histogram of values\n",
    "theDistances_km.hist(figsize=(10,3));"
   ]
  },
  {
   "cell_type": "code",
   "execution_count": null,
   "metadata": {},
   "outputs": [],
   "source": [
    "#We can even join the distances back to the geo dataframe and plot HUCs on distance\n",
    "gdfNeuse['dist2durham'] = theDistances_km\n",
    "gdfNeuse.plot(column='dist2durham',\n",
    "              cmap='YlOrRd',\n",
    "              legend=True);"
   ]
  },
  {
   "cell_type": "markdown",
   "metadata": {},
   "source": [
    "#### Buffering all features\n",
    "What if we wanted to find the \"core area\" of all our Neuse HUCS, i.e. all area within 1500m of its border. We can do that easily by buffering our features with a negative value:"
   ]
  },
  {
   "cell_type": "code",
   "execution_count": null,
   "metadata": {},
   "outputs": [],
   "source": [
    "#Buffer the HUCs -1500m\n",
    "gdfNeuseCore = gdfNeuse.buffer(-1500)\n",
    "gdfNeuseCore.plot();"
   ]
  },
  {
   "cell_type": "code",
   "execution_count": null,
   "metadata": {},
   "outputs": [],
   "source": [
    "#Report summary stats of the areas of the returned features\n",
    "gdfNeuseCore.area.describe()"
   ]
  },
  {
   "cell_type": "code",
   "execution_count": null,
   "metadata": {},
   "outputs": [],
   "source": [
    "#Reveal a histogram of the areas\n",
    "gdfNeuseCore.area.hist();"
   ]
  },
  {
   "cell_type": "markdown",
   "metadata": {},
   "source": [
    "#### Clipping features\n",
    "Now let's see what the area of each HUC is within 5000m of Durham..."
   ]
  },
  {
   "cell_type": "code",
   "execution_count": null,
   "metadata": {},
   "outputs": [],
   "source": [
    "#Buffer Durham 1500m \n",
    "durham_5000m = ptDurham_UTM.buffer(15000)\n",
    "type(durham_5000m)"
   ]
  },
  {
   "cell_type": "code",
   "execution_count": null,
   "metadata": {},
   "outputs": [],
   "source": [
    "#Add that one geometry feature to a new geoseries \n",
    "gs_Durham = gpd.GeoSeries(durham_5000m)\n",
    "type(gs_Durham)"
   ]
  },
  {
   "cell_type": "code",
   "execution_count": null,
   "metadata": {},
   "outputs": [],
   "source": [
    "#Create a one-item spatial dataframe and assign it's geometry to the geoseries above \n",
    "gdf_Durham = gpd.GeoDataFrame([{'Location':'Durham'}],\n",
    "                              geometry=gs_Durham)\n",
    "type(gdf_Durham)"
   ]
  },
  {
   "cell_type": "code",
   "execution_count": null,
   "metadata": {},
   "outputs": [],
   "source": [
    "#Show the dataframe. How's it look?\n",
    "gdf_Durham"
   ]
  },
  {
   "cell_type": "code",
   "execution_count": null,
   "metadata": {},
   "outputs": [],
   "source": [
    "#What is the geodataframes coordinate reference system?\n",
    "gdf_Durham.crs"
   ]
  },
  {
   "cell_type": "code",
   "execution_count": null,
   "metadata": {},
   "outputs": [],
   "source": [
    "#As it's undefined, we'll define it - using the same crs as the Neuse datasets\n",
    "gdf_Durham.crs = gdfNeuse.crs"
   ]
  },
  {
   "cell_type": "code",
   "execution_count": null,
   "metadata": {},
   "outputs": [],
   "source": [
    "#gs_Neuse = gdfNeuse.geometry\n",
    "#type(gs_Neuse)"
   ]
  },
  {
   "cell_type": "code",
   "execution_count": null,
   "metadata": {},
   "outputs": [],
   "source": [
    "#Plot both dataframes\n",
    "theAxis = gdf_Durham.plot(color='red')             #Plot the Durham gdf, saving its axis to \"theAxis\"\n",
    "gdfNeuse.plot(ax=theAxis,color='blue',alpha=0.5);  #Plot the Neuse gdf, using the same axis as above"
   ]
  },
  {
   "cell_type": "code",
   "execution_count": null,
   "metadata": {},
   "outputs": [],
   "source": [
    "#Clip the HUC layer\n",
    "gdfNeuseClip = gpd.overlay(gdf_Durham,gdfNeuse,how='intersection')\n",
    "#Show the Clip\n",
    "gdfNeuseClip.plot()"
   ]
  },
  {
   "cell_type": "code",
   "execution_count": null,
   "metadata": {},
   "outputs": [],
   "source": [
    "#Extract each polygon's area to a new fields\n",
    "gdfNeuseClip['Area'] = gdfNeuseClip.area\n",
    "#Set the dataframe's index to the HUC12 Name\n",
    "gdfNeuseClip.set_index('HU_12_NAME',inplace=True)\n",
    "gdfNeuseClip.head()"
   ]
  },
  {
   "cell_type": "code",
   "execution_count": null,
   "metadata": {},
   "outputs": [],
   "source": [
    "gdfNeuseClip['Area'].plot(kind='barh');"
   ]
  },
  {
   "cell_type": "markdown",
   "metadata": {},
   "source": [
    "### A more complex analyis\n",
    "Here we will buffer the centroid of a feature and then intersect that with the feature. \n",
    "\n",
    "* We begin by selecting a feature. We'll pick on the Elk Creek HUC..."
   ]
  },
  {
   "cell_type": "code",
   "execution_count": null,
   "metadata": {},
   "outputs": [],
   "source": [
    "#Select a feature by an attribute\n",
    "hucMask = gdfUTM['HU_12_NAME'] == 'Elk Creek'\n",
    "gdfHUC = gdfUTM[hucMask]\n",
    "type(gdfHUC)"
   ]
  },
  {
   "cell_type": "code",
   "execution_count": null,
   "metadata": {},
   "outputs": [],
   "source": [
    "#Show the results\n",
    "gdfHUC"
   ]
  },
  {
   "cell_type": "markdown",
   "metadata": {},
   "source": [
    "►This approach is slightly different than in the above example (`thePoly = gdfUTM['geometry'][0]`) which returned a _Shapely geometry_ object from the geodataframe; here our query returns a _GeoSeries_ object. However, other than plotting, the behavior is mostly the same."
   ]
  },
  {
   "cell_type": "code",
   "execution_count": null,
   "metadata": {},
   "outputs": [],
   "source": [
    "#Get the shape of the feature\n",
    "feature_geometry = gdfHUC['geometry'] #->returns a GeoSeries, not a shapely geometry\n",
    "type(feature_geometry)"
   ]
  },
  {
   "cell_type": "code",
   "execution_count": null,
   "metadata": {},
   "outputs": [],
   "source": [
    "#Copy the dfHUC dataframe and then we'll modify geometries\n",
    "gdfHUC_copy = gdfHUC.copy(deep=True)"
   ]
  },
  {
   "cell_type": "code",
   "execution_count": null,
   "metadata": {},
   "outputs": [],
   "source": [
    "#Update geometry to the centroid of each feature buffered 5000m\n",
    "gdfHUC_copy['geometry'] = gdfHUC_copy['geometry'].centroid.buffer(5000)"
   ]
  },
  {
   "cell_type": "code",
   "execution_count": null,
   "metadata": {},
   "outputs": [],
   "source": [
    "#Buffer the centroid\n",
    "theBuffer = theCentroid.buffer(100)\n",
    "#Intersect the buffer and the original shape\n",
    "theClip = gpd.overlay(gdfHUC_copy,gdfHUC,how='intersection')\n",
    "#Show the Clip\n",
    "theClip.plot()"
   ]
  },
  {
   "cell_type": "markdown",
   "metadata": {},
   "source": [
    "## 7. Geospatial capabilities of the GeoPandas dataFrame object"
   ]
  },
  {
   "cell_type": "code",
   "execution_count": null,
   "metadata": {},
   "outputs": [],
   "source": [
    "#Dissolving\n",
    "dfHUC8 = gdf.dissolve(by='HUC_8',aggfunc='sum')\n",
    "dfHUC8.dtypes"
   ]
  },
  {
   "cell_type": "code",
   "execution_count": null,
   "metadata": {},
   "outputs": [],
   "source": [
    "dfHUC8.plot(column='ACRES',\n",
    "            scheme='quantiles',        \n",
    "            figsize=(14,18));"
   ]
  },
  {
   "cell_type": "markdown",
   "metadata": {},
   "source": [
    "## Recap\n",
    "In this super quick introduction to GeoPandas, we saw that the GeoDataFrame is easy to construct from a shapefile, and once constructed gives us access to the analytic capability of Pandas dataframes (e.g. selecting, summarizing, etc.) as well as plotting and spatial analytic capability. \n",
    "\n",
    "I'm hopeful that at the end of this short introduction you're eager to read up on the documentation and learn more what GeoPandas can do. "
   ]
  }
 ],
 "metadata": {
  "kernelspec": {
   "display_name": "Python 3",
   "language": "python",
   "name": "python3"
  },
  "language_info": {
   "codemirror_mode": {
    "name": "ipython",
    "version": 3
   },
   "file_extension": ".py",
   "mimetype": "text/x-python",
   "name": "python",
   "nbconvert_exporter": "python",
   "pygments_lexer": "ipython3",
   "version": "3.6.8"
  }
 },
 "nbformat": 4,
 "nbformat_minor": 2
}
